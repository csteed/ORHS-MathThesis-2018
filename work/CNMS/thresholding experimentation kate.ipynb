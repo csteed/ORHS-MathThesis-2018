{
 "cells": [
  {
   "cell_type": "code",
   "execution_count": null,
   "metadata": {},
   "outputs": [],
   "source": [
    "import matplotlib.pyplot as plt\n",
    "import matplotlib.image as mpimg\n",
    "from skimage import data\n",
    "from skimage.filters import try_all_threshold\n",
    "\n",
    "img=mpimg.imread('cropped_Wild013.tif')\n",
    "original_img = img[:,:,0]"
   ]
  },
  {
   "cell_type": "code",
   "execution_count": null,
   "metadata": {},
   "outputs": [],
   "source": [
    "fig, ax = try_all_threshold(original_img, figsize=(10, 8), verbose=False)\n",
    "plt.show()\n",
    "#mean seems to work pretty well on this one\n",
    "#yen looks ok, but it looks better on others"
   ]
  },
  {
   "cell_type": "code",
   "execution_count": null,
   "metadata": {},
   "outputs": [],
   "source": [
    "#change the block size or offset to make it work better? \n",
    "#we tried both but it didn't seem to help\n",
    "\n",
    "\n",
    "from skimage.filters import threshold_yen, threshold_local\n",
    "\n",
    "global_thresh = threshold_yen(original_img)\n",
    "binary_global = original_img > global_thresh\n",
    "\n",
    "block_size = 23\n",
    "local_thresh = threshold_local(original_img, block_size, offset=10)\n",
    "binary_local = original_img > local_thresh\n",
    "\n",
    "fig, axes = plt.subplots(nrows=3, figsize=(7, 8))\n",
    "ax = axes.ravel()\n",
    "plt.gray()\n",
    "\n",
    "ax[0].imshow(original_img)\n",
    "ax[0].set_title('Original')\n",
    "\n",
    "ax[1].imshow(binary_global)\n",
    "ax[1].set_title('Global thresholding (yen)')\n",
    "\n",
    "ax[2].imshow(binary_local)\n",
    "ax[2].set_title('Local thresholding')\n",
    "\n",
    "for a in ax:\n",
    "    a.axis('off')\n",
    "\n",
    "plt.show()\n"
   ]
  },
  {
   "cell_type": "code",
   "execution_count": null,
   "metadata": {},
   "outputs": [],
   "source": [
    "#so this does look better when you zoom out but there are way too many dots\n",
    "#local also takes longer\n",
    "\n",
    "from skimage.morphology import disk\n",
    "from skimage.filters import threshold_otsu, rank\n",
    "from skimage.util import img_as_ubyte\n",
    "img = img_as_ubyte(original_img)\n",
    "\n",
    "radius = 13\n",
    "selem = disk(radius)\n",
    "\n",
    "local_otsu = rank.otsu(img, selem)\n",
    "threshold_global_otsu = threshold_otsu(img)\n",
    "global_otsu = img >= threshold_global_otsu\n",
    "\n",
    "fig, axes = plt.subplots(2, 2, figsize=(8, 5), sharex=True, sharey=True)\n",
    "ax = axes.ravel()\n",
    "plt.tight_layout()\n",
    "\n",
    "fig.colorbar(ax[0].imshow(img, cmap=plt.cm.gray),\n",
    "             ax=ax[0], orientation='horizontal')\n",
    "ax[0].set_title('Original')\n",
    "ax[0].axis('off')\n",
    "\n",
    "fig.colorbar(ax[1].imshow(local_otsu, cmap=plt.cm.gray),\n",
    "             ax=ax[1], orientation='horizontal')\n",
    "ax[1].set_title('Local Otsu (radius=%d)' % radius)\n",
    "ax[1].axis('off')\n",
    "\n",
    "ax[2].imshow(img >= local_otsu, cmap=plt.cm.gray)\n",
    "ax[2].set_title('Original >= Local Otsu' % threshold_global_otsu)\n",
    "ax[2].axis('off')\n",
    "\n",
    "ax[3].imshow(global_otsu, cmap=plt.cm.gray)\n",
    "ax[3].set_title('Global Otsu (threshold = %d)' % threshold_global_otsu)\n",
    "ax[3].axis('off')\n",
    "\n",
    "plt.show()"
   ]
  },
  {
   "cell_type": "code",
   "execution_count": null,
   "metadata": {},
   "outputs": [],
   "source": [
    "#trying different types of blurring: Gaussian (g), median blur (m), and averaging (a)\n",
    "gblur = cv2.GaussianBlur(original_img,(11,11),0)\n",
    "mblur = cv2.medianBlur(original_img,11)\n",
    "ablur = cv2.blur(original_img,(11, 11)) \n",
    "\n",
    "plt.subplot(121),plt.imshow(gblur)\n",
    "plt.xticks([]), plt.yticks([])\n",
    "plt.subplot(122),plt.imshow(ablur)\n",
    "plt.xticks([]), plt.yticks([])\n",
    "\n",
    "plt.show()"
   ]
  },
  {
   "cell_type": "code",
   "execution_count": null,
   "metadata": {},
   "outputs": [],
   "source": [
    "#from http://opencv-python-tutroals.readthedocs.io/en/latest/py_tutorials/py_imgproc/py_thresholding/py_thresholding.html\n",
    "import cv2\n",
    "import numpy as np\n",
    "from matplotlib import pyplot as plt\n",
    "\n",
    "#img = cv2.GaussianBlur(original_img,(15,15),0)\n",
    "img = cv2.blur(original_img,(11, 11))\n",
    "#img = cv2.medianBlur(original_img,15)\n",
    "\n",
    "ret,th1 = cv2.threshold(img,127,255,cv2.THRESH_BINARY)\n",
    "th2 = cv2.adaptiveThreshold(img,255,cv2.ADAPTIVE_THRESH_MEAN_C,\\\n",
    "            cv2.THRESH_BINARY,31,5)\n",
    "th3 = cv2.adaptiveThreshold(img,255,cv2.ADAPTIVE_THRESH_GAUSSIAN_C,\\\n",
    "            cv2.THRESH_BINARY,31,5)\n",
    "\n",
    "titles = [\"Blurred Image\", 'Global Thresholding (v = 127)',\n",
    "            'Adaptive Mean Thresholding', 'Adaptive Gaussian Thresholding']\n",
    "images = [img, th1, th2, th3]\n",
    "\n",
    "for i in range(4):\n",
    "    plt.subplot(2,2,i+1),plt.imshow(images[i],'gray')\n",
    "    plt.title(titles[i])\n",
    "    plt.xticks([]),plt.yticks([])\n",
    "plt.show()"
   ]
  },
  {
   "cell_type": "code",
   "execution_count": null,
   "metadata": {},
   "outputs": [],
   "source": [
    "#don't use this one\n",
    "\n",
    "gblur = cv2.GaussianBlur(original_img,(17,17),0)\n",
    "g_mthres = cv2.adaptiveThreshold(gblur,1,cv2.ADAPTIVE_THRESH_MEAN_C,\\\n",
    "            cv2.THRESH_BINARY,31,5)\n",
    "#g_Gthres = cv2.adaptiveThreshold(gblur,1,cv2.ADAPTIVE_THRESH_GAUSSIAN_C,\\\n",
    "            #cv2.THRESH_BINARY,31,5)\n",
    "thresholds = plt.subplot()\n",
    "thresholds.imshow(g_mthres) \n",
    "plt.show()"
   ]
  },
  {
   "cell_type": "code",
   "execution_count": null,
   "metadata": {},
   "outputs": [],
   "source": [
    "#mthres seems to work better than gthres\n",
    "ablur = cv2.blur(original_img,(18, 18))\n",
    "a_mthres = cv2.adaptiveThreshold(ablur,1,cv2.ADAPTIVE_THRESH_MEAN_C,\\\n",
    "            cv2.THRESH_BINARY,31,4)\n",
    "#a_Gthres = cv2.adaptiveThreshold(ablur,1,cv2.ADAPTIVE_THRESH_GAUSSIAN_C,\\\n",
    "           # cv2.THRESH_BINARY,31,5)\n",
    "thresholds = plt.subplot()\n",
    "thresholds.imshow(a_mthres) \n",
    "plt.show()"
   ]
  },
  {
   "cell_type": "code",
   "execution_count": null,
   "metadata": {},
   "outputs": [],
   "source": [
    "#gets rid of more little dots in the middle of the purple\n",
    "from skimage.morphology import closing, opening\n",
    "openimg=opening(a_mthres)\n",
    "image=plt.subplot()\n",
    "image.imshow(openimg)"
   ]
  },
  {
   "cell_type": "code",
   "execution_count": null,
   "metadata": {},
   "outputs": [],
   "source": [
    "from skimage.morphology import skeletonize\n",
    "skeleton = skeletonize(openimg)\n",
    "ax = plt.subplot()\n",
    "from matplotlib.colors import LinearSegmentedColormap\n",
    "cdict2 = {'red':   ((0.0, 0.0, 0.0),\n",
    "                   (0.1, 1.0, 1.0),\n",
    "                   (1.0, 1.0, 1.0)),\n",
    "\n",
    "         'green': ((0.0, 0.0, 0.0),\n",
    "                   (1.0, 0.0, 0.0)),\n",
    "\n",
    "        'blue':  ((0.0, 0.0, 0.0),\n",
    "                   (1.0, 0.0, 0.0))\n",
    "        }\n",
    "red2 = LinearSegmentedColormap('Red2', cdict2)\n",
    "ax.imshow(skeleton, cmap=red2, interpolation= 'bilinear')"
   ]
  },
  {
   "cell_type": "code",
   "execution_count": null,
   "metadata": {},
   "outputs": [],
   "source": [
    "img=mpimg.imread('cropped_Wild002.tif')\n",
    "imgplot = plt.imshow(img, alpha=0.9)\n",
    "ax = plt.subplot()\n",
    "ax.imshow(skeleton, cmap=red2, interpolation='sinc', alpha=.42) \n",
    "plt.show()"
   ]
  },
  {
   "cell_type": "code",
   "execution_count": null,
   "metadata": {},
   "outputs": [],
   "source": []
  },
  {
   "cell_type": "code",
   "execution_count": null,
   "metadata": {},
   "outputs": [],
   "source": []
  }
 ],
 "metadata": {
  "kernelspec": {
   "display_name": "Python 3",
   "language": "python",
   "name": "python3"
  },
  "language_info": {
   "codemirror_mode": {
    "name": "ipython",
    "version": 3
   },
   "file_extension": ".py",
   "mimetype": "text/x-python",
   "name": "python",
   "nbconvert_exporter": "python",
   "pygments_lexer": "ipython3",
   "version": "3.6.5"
  }
 },
 "nbformat": 4,
 "nbformat_minor": 2
}
