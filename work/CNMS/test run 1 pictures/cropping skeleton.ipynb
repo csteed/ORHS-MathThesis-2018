{
 "cells": [
  {
   "cell_type": "code",
   "execution_count": 16,
   "metadata": {},
   "outputs": [],
   "source": [
    "from PIL import Image\n",
    "im = Image.open('SkeletonizedWild052.png');\n",
    "#im.show();\n",
    "width, height=im.size\n",
    "\n",
    "area = (33, 0, width, height-23 )\n",
    "im = im.crop(area)\n",
    "\n",
    "im.save('Skeletonized_Wild052.png')\n",
    "im.show()"
   ]
  },
  {
   "cell_type": "code",
   "execution_count": null,
   "metadata": {},
   "outputs": [],
   "source": []
  }
 ],
 "metadata": {
  "kernelspec": {
   "display_name": "Python 3",
   "language": "python",
   "name": "python3"
  },
  "language_info": {
   "codemirror_mode": {
    "name": "ipython",
    "version": 3
   },
   "file_extension": ".py",
   "mimetype": "text/x-python",
   "name": "python",
   "nbconvert_exporter": "python",
   "pygments_lexer": "ipython3",
   "version": "3.6.5"
  }
 },
 "nbformat": 4,
 "nbformat_minor": 2
}
