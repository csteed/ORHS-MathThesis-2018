{
 "cells": [
  {
   "cell_type": "code",
   "execution_count": null,
   "metadata": {},
   "outputs": [],
   "source": [
    "import matplotlib.pyplot as plt\n",
    "import cv2\n",
    "img = cv2.imread('cropped_Wild013.tif')\n",
    "blur = cv2.blur(img,(15,15))\n",
    "from matplotlib.colors import LinearSegmentedColormap\n",
    "cdict2 = {'red':   ((0.0, 0.0, 0.0),\n",
    "                   (0.1, 1.0, 1.0),\n",
    "                   (1.0, 1.0, 1.0)),\n",
    "\n",
    "         'green': ((0.0, 0.0, 0.0),\n",
    "                   (1.0, 0.0, 0.0)),\n",
    "\n",
    "        'blue':  ((0.0, 0.0, 0.0),\n",
    "                   (1.0, 0.0, 0.0))\n",
    "        }\n",
    "red2 = LinearSegmentedColormap('Red2', cdict2)\n",
    "from skimage.filters import threshold_otsu\n",
    "thotsu=threshold_otsu(blur)\n",
    "otsublur = blur[:,:,0]> thotsu\n",
    "\n",
    "from skimage.morphology import skeletonize\n",
    "otsuskeleton = skeletonize(otsublur)\n",
    "imgplot = plt.imshow(img, alpha=0.9)\n",
    "ax = plt.subplot()\n",
    "ax.imshow(otsuskeleton, cmap=red2, interpolation='sinc', alpha=.42) "
   ]
  },
  {
   "cell_type": "code",
   "execution_count": null,
   "metadata": {},
   "outputs": [],
   "source": [
    "import numpy as np\n",
    "import cv2 as cv\n",
    "from matplotlib import pyplot as plt\n",
    "img = cv.imread('cropped_Wild013.tif',0)\n",
    "plt.hist(img.ravel(),256,[0,256]); plt.show()\n",
    "\n",
    "np.mean(img)"
   ]
  },
  {
   "cell_type": "code",
   "execution_count": null,
   "metadata": {},
   "outputs": [],
   "source": [
    "np.std(img)"
   ]
  },
  {
   "cell_type": "code",
   "execution_count": null,
   "metadata": {},
   "outputs": [],
   "source": [
    "from PIL import Image\n",
    "im = Image.open(\"cropped_Wild013.tif\")"
   ]
  },
  {
   "cell_type": "code",
   "execution_count": null,
   "metadata": {},
   "outputs": [],
   "source": [
    "im.quantize(10,0)\n",
    "im"
   ]
  },
  {
   "cell_type": "code",
   "execution_count": null,
   "metadata": {},
   "outputs": [],
   "source": [
    "img = cv.imread('cropped_Wild013.tif',0)\n",
    "plt.hist(img.ravel(),256,[0,256]); plt.show()"
   ]
  },
  {
   "cell_type": "code",
   "execution_count": null,
   "metadata": {},
   "outputs": [],
   "source": []
  },
  {
   "cell_type": "code",
   "execution_count": null,
   "metadata": {},
   "outputs": [],
   "source": []
  }
 ],
 "metadata": {
  "kernelspec": {
   "display_name": "Python 3",
   "language": "python",
   "name": "python3"
  },
  "language_info": {
   "codemirror_mode": {
    "name": "ipython",
    "version": 3
   },
   "file_extension": ".py",
   "mimetype": "text/x-python",
   "name": "python",
   "nbconvert_exporter": "python",
   "pygments_lexer": "ipython3",
   "version": "3.6.5"
  }
 },
 "nbformat": 4,
 "nbformat_minor": 2
}
