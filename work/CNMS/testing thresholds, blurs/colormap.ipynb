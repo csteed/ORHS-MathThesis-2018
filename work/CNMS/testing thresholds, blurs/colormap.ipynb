{
 "cells": [
  {
   "cell_type": "code",
   "execution_count": 15,
   "metadata": {},
   "outputs": [
    {
     "ename": "NameError",
     "evalue": "name 'skeleton' is not defined",
     "output_type": "error",
     "traceback": [
      "\u001b[0;31m---------------------------------------------------------------------------\u001b[0m",
      "\u001b[0;31mNameError\u001b[0m                                 Traceback (most recent call last)",
      "\u001b[0;32m<ipython-input-15-2b804c106441>\u001b[0m in \u001b[0;36m<module>\u001b[0;34m()\u001b[0m\n\u001b[1;32m      9\u001b[0m \u001b[0;31m#X, Y = np.meshgrid(x, y)\u001b[0m\u001b[0;34m\u001b[0m\u001b[0;34m\u001b[0m\u001b[0m\n\u001b[1;32m     10\u001b[0m \u001b[0;31m#Z = np.cos(X) * np.sin(Y) * 10\u001b[0m\u001b[0;34m\u001b[0m\u001b[0;34m\u001b[0m\u001b[0m\n\u001b[0;32m---> 11\u001b[0;31m \u001b[0mZ\u001b[0m \u001b[0;34m=\u001b[0m \u001b[0mskeleton\u001b[0m\u001b[0;34m\u001b[0m\u001b[0m\n\u001b[0m\u001b[1;32m     12\u001b[0m \u001b[0;34m\u001b[0m\u001b[0m\n\u001b[1;32m     13\u001b[0m \u001b[0;31m# --- Custom colormaps ---\u001b[0m\u001b[0;34m\u001b[0m\u001b[0;34m\u001b[0m\u001b[0m\n",
      "\u001b[0;31mNameError\u001b[0m: name 'skeleton' is not defined"
     ]
    }
   ],
   "source": [
    "import numpy as np\n",
    "import matplotlib.pyplot as plt\n",
    "from matplotlib.colors import LinearSegmentedColormap\n",
    "\n",
    "#x = np.arange(0, np.pi, 0.1)\n",
    "#y = np.arange(0, 2*np.pi, 0.1)\n",
    "#X, Y = np.meshgrid(x, y)\n",
    "#Z = np.cos(X) * np.sin(Y) * 10\n",
    "Z = skeleton\n",
    "\n",
    "# --- Custom colormaps ---\n",
    "cdict1 = {'red':   ((0.0, 0.0, 0.0),\n",
    "                   (0.5, 0.0, 0.1),\n",
    "                   (1.0, 1.0, 1.0)),\n",
    "\n",
    "         'green': ((0.0, 0.0, 0.0),\n",
    "                   (1.0, 0.0, 0.0)),\n",
    "\n",
    "        'blue':  ((0.0, 0.0, 1.0),\n",
    "                   (0.5, 0.1, 0.0),\n",
    "                   (1.0, 0.0, 0.0))\n",
    "        }\n",
    "# First, the most direct and explicit:\n",
    "\n",
    "blue_red1 = LinearSegmentedColormap('BlueRed1', cdict1)\n",
    "# Make the figure:\n",
    "\n",
    "fig, axs = plt.subplots(2, 2, figsize=(6, 9))\n",
    "fig.subplots_adjust(left=0.02, bottom=0.06, right=0.95, top=0.94, wspace=0.05)\n",
    "\n",
    "# Make 4 subplots:\n",
    "\n",
    "im1 = axs[0, 0].imshow(Z, interpolation='nearest', cmap=blue_red1)\n",
    "fig.colorbar(im1, ax=axs[0, 0])\n",
    "\n",
    "plt.show()"
   ]
  },
  {
   "cell_type": "code",
   "execution_count": null,
   "metadata": {},
   "outputs": [],
   "source": []
  }
 ],
 "metadata": {
  "kernelspec": {
   "display_name": "Python 3",
   "language": "python",
   "name": "python3"
  },
  "language_info": {
   "codemirror_mode": {
    "name": "ipython",
    "version": 3
   },
   "file_extension": ".py",
   "mimetype": "text/x-python",
   "name": "python",
   "nbconvert_exporter": "python",
   "pygments_lexer": "ipython3",
   "version": "3.6.5"
  }
 },
 "nbformat": 4,
 "nbformat_minor": 2
}
